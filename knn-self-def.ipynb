{
 "cells": [
  {
   "cell_type": "code",
   "execution_count": 85,
   "metadata": {},
   "outputs": [
    {
     "data": {
      "text/html": [
       "<div>\n",
       "<style scoped>\n",
       "    .dataframe tbody tr th:only-of-type {\n",
       "        vertical-align: middle;\n",
       "    }\n",
       "\n",
       "    .dataframe tbody tr th {\n",
       "        vertical-align: top;\n",
       "    }\n",
       "\n",
       "    .dataframe thead th {\n",
       "        text-align: right;\n",
       "    }\n",
       "</style>\n",
       "<table border=\"1\" class=\"dataframe\">\n",
       "  <thead>\n",
       "    <tr style=\"text-align: right;\">\n",
       "      <th></th>\n",
       "      <th>Gender</th>\n",
       "      <th>Age</th>\n",
       "      <th>openness</th>\n",
       "      <th>neuroticism</th>\n",
       "      <th>conscientiousness</th>\n",
       "      <th>agreeableness</th>\n",
       "      <th>extraversion</th>\n",
       "      <th>Personality</th>\n",
       "    </tr>\n",
       "  </thead>\n",
       "  <tbody>\n",
       "    <tr>\n",
       "      <th>0</th>\n",
       "      <td>Male</td>\n",
       "      <td>17</td>\n",
       "      <td>7</td>\n",
       "      <td>4</td>\n",
       "      <td>7</td>\n",
       "      <td>3</td>\n",
       "      <td>2</td>\n",
       "      <td>extraverted</td>\n",
       "    </tr>\n",
       "    <tr>\n",
       "      <th>1</th>\n",
       "      <td>Male</td>\n",
       "      <td>19</td>\n",
       "      <td>4</td>\n",
       "      <td>5</td>\n",
       "      <td>4</td>\n",
       "      <td>6</td>\n",
       "      <td>6</td>\n",
       "      <td>serious</td>\n",
       "    </tr>\n",
       "    <tr>\n",
       "      <th>2</th>\n",
       "      <td>Female</td>\n",
       "      <td>18</td>\n",
       "      <td>7</td>\n",
       "      <td>6</td>\n",
       "      <td>4</td>\n",
       "      <td>5</td>\n",
       "      <td>5</td>\n",
       "      <td>dependable</td>\n",
       "    </tr>\n",
       "    <tr>\n",
       "      <th>3</th>\n",
       "      <td>Female</td>\n",
       "      <td>22</td>\n",
       "      <td>5</td>\n",
       "      <td>6</td>\n",
       "      <td>7</td>\n",
       "      <td>4</td>\n",
       "      <td>3</td>\n",
       "      <td>extraverted</td>\n",
       "    </tr>\n",
       "    <tr>\n",
       "      <th>4</th>\n",
       "      <td>Female</td>\n",
       "      <td>19</td>\n",
       "      <td>7</td>\n",
       "      <td>4</td>\n",
       "      <td>6</td>\n",
       "      <td>5</td>\n",
       "      <td>4</td>\n",
       "      <td>lively</td>\n",
       "    </tr>\n",
       "  </tbody>\n",
       "</table>\n",
       "</div>"
      ],
      "text/plain": [
       "   Gender  Age  openness  neuroticism  conscientiousness  agreeableness  \\\n",
       "0    Male   17         7            4                  7              3   \n",
       "1    Male   19         4            5                  4              6   \n",
       "2  Female   18         7            6                  4              5   \n",
       "3  Female   22         5            6                  7              4   \n",
       "4  Female   19         7            4                  6              5   \n",
       "\n",
       "   extraversion  Personality  \n",
       "0             2  extraverted  \n",
       "1             6      serious  \n",
       "2             5   dependable  \n",
       "3             3  extraverted  \n",
       "4             4       lively  "
      ]
     },
     "execution_count": 85,
     "metadata": {},
     "output_type": "execute_result"
    }
   ],
   "source": [
    "import pandas as pd\n",
    "df = pd.read_csv(\"train dataset.csv\")\n",
    "df.head()"
   ]
  },
  {
   "cell_type": "code",
   "execution_count": 86,
   "metadata": {},
   "outputs": [],
   "source": [
    "#conversion \n",
    "# for i in range(df.shape[0]):\n",
    "#     if df.loc[i,'Gender'] == \"Male\":\n",
    "#         df.loc[i,'Gender'] = 1\n",
    "#     else:\n",
    "#         df.loc[i,'Gender'] = 0\n",
    "# df.head()"
   ]
  },
  {
   "cell_type": "code",
   "execution_count": 87,
   "metadata": {},
   "outputs": [],
   "source": [
    "import numpy as np\n",
    "from scipy.stats import mode\n",
    "from sklearn.model_selection import train_test_split\n",
    "#Euclidean distance\n",
    "def euclidean_distance(p1,p2):\n",
    "    dist = np.sqrt(np.sum((p1 - p2)**2))\n",
    "    return dist\n"
   ]
  },
  {
   "cell_type": "code",
   "execution_count": 88,
   "metadata": {},
   "outputs": [],
   "source": [
    "import numpy as np\n",
    "from scipy.stats import mode\n",
    "from sklearn.model_selection import train_test_split\n",
    "\n",
    "\n",
    "#Func to calculate knn\n",
    "def knn_predict(x_train,y,x_input,k):\n",
    "    op_labels = []\n",
    "    for item in x_input:\n",
    "        point_dist = []\n",
    "        for j in range(len(x_train)):\n",
    "            distances = euclidean_distance(np.array(x_train[j,:]),item)\n",
    "            point_dist.append(distances)\n",
    "            \n",
    "        point_dist = np.array(point_dist)\n",
    "      \n",
    "        #print(point_dist)\n",
    "        \n",
    "        dist = np.argsort(point_dist)[:k]\n",
    "        \n",
    "        labels = y[dist]\n",
    "#         print(labels)\n",
    "        lab = mode(labels)\n",
    "        lab = lab.mode[0]\n",
    "        op_labels.append(lab)\n",
    "       \n",
    "    return op_labels  \n",
    "        "
   ]
  },
  {
   "cell_type": "code",
   "execution_count": 89,
   "metadata": {},
   "outputs": [],
   "source": [
    "X=df.drop([\"Personality\",\"Gender\",\"Age\"],axis=1)\n",
    "y =df.Personality"
   ]
  },
  {
   "cell_type": "code",
   "execution_count": 90,
   "metadata": {},
   "outputs": [],
   "source": [
    "from sklearn.model_selection import train_test_split\n",
    "x_train,x_test,y_train,y_test= train_test_split(X,y,test_size=0.25,random_state=10)\n",
    "\n",
    "x_train = np.array(x_train)\n",
    "y_train = np.array(y_train)\n",
    "\n",
    "x_test = np.array(x_test)\n",
    "y_test = np.array(y_test)\n",
    "\n"
   ]
  },
  {
   "cell_type": "code",
   "execution_count": 91,
   "metadata": {},
   "outputs": [
    {
     "data": {
      "text/plain": [
       "[[1, 0.328125],\n",
       " [2, 0.29296875],\n",
       " [3, 0.29296875],\n",
       " [4, 0.29296875],\n",
       " [5, 0.328125],\n",
       " [6, 0.3046875],\n",
       " [7, 0.3046875],\n",
       " [8, 0.32421875],\n",
       " [9, 0.3125],\n",
       " [10, 0.328125],\n",
       " [11, 0.30078125],\n",
       " [12, 0.31640625],\n",
       " [13, 0.3046875],\n",
       " [14, 0.2890625],\n",
       " [15, 0.31640625],\n",
       " [16, 0.3125],\n",
       " [17, 0.328125],\n",
       " [18, 0.33984375],\n",
       " [19, 0.33203125],\n",
       " [20, 0.32421875],\n",
       " [21, 0.3203125],\n",
       " [22, 0.33984375],\n",
       " [23, 0.33984375],\n",
       " [24, 0.328125],\n",
       " [25, 0.34765625],\n",
       " [26, 0.33203125],\n",
       " [27, 0.3125],\n",
       " [28, 0.3125],\n",
       " [29, 0.31640625],\n",
       " [30, 0.328125],\n",
       " [31, 0.3359375],\n",
       " [32, 0.3359375],\n",
       " [33, 0.328125],\n",
       " [34, 0.3359375],\n",
       " [35, 0.3515625],\n",
       " [36, 0.3359375],\n",
       " [37, 0.34765625],\n",
       " [38, 0.33984375],\n",
       " [39, 0.3359375],\n",
       " [40, 0.34765625]]"
      ]
     },
     "execution_count": 91,
     "metadata": {},
     "output_type": "execute_result"
    }
   ],
   "source": [
    "from scipy.stats import mode\n",
    "from sklearn.metrics import accuracy_score\n",
    "accuracy = []\n",
    "for i in range(1,41):\n",
    "    y_pred= knn_predict(x_train,y_train,x_test,i)\n",
    "    accuracy.append([i,accuracy_score(y_test,y_pred)])\n",
    "accuracy    \n",
    "    "
   ]
  },
  {
   "cell_type": "code",
   "execution_count": 93,
   "metadata": {},
   "outputs": [
    {
     "data": {
      "text/plain": [
       "[<matplotlib.lines.Line2D at 0xa0754a9f98>]"
      ]
     },
     "execution_count": 93,
     "metadata": {},
     "output_type": "execute_result"
    },
    {
     "data": {
      "image/png": "[encoded data removed]",
      "text/plain": [
       "<Figure size 864x432 with 1 Axes>"
      ]
     },
     "metadata": {
      "needs_background": "light"
     },
     "output_type": "display_data"
    }
   ],
   "source": [
    "# plt.plot()\n",
    "import matplotlib.pyplot as plt\n",
    "x_axis = []\n",
    "y_axis = []\n",
    "for item in accuracy:\n",
    "    x_axis.append(item[0])\n",
    "    y_axis.append(item[1])\n",
    "plt.figure(figsize = (12,6))\n",
    "plt.xlabel('K')\n",
    "plt.ylabel('Accuracy')\n",
    "plt.plot(x_axis,y_axis)    "
   ]
  },
  {
   "cell_type": "code",
   "execution_count": null,
   "metadata": {},
   "outputs": [],
   "source": []
  }
 ],
 "metadata": {
  "kernelspec": {
   "display_name": "Python 3",
   "language": "python",
   "name": "python3"
  },
  "language_info": {
   "codemirror_mode": {
    "name": "ipython",
    "version": 3
   },
   "file_extension": ".py",
   "mimetype": "text/x-python",
   "name": "python",
   "nbconvert_exporter": "python",
   "pygments_lexer": "ipython3",
   "version": "3.7.1"
  }
 },
 "nbformat": 4,
 "nbformat_minor": 2
}
